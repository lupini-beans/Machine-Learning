{
 "cells": [
  {
   "cell_type": "markdown",
   "metadata": {},
   "source": [
    "# Machine Learning | Emily Lupini #\n",
    "## Asignment II ##\n",
    "#### 3-Class Animals classification using K-Nearest Neighbor classifier ####\n",
    "\n",
    "---\n",
    "\n",
    "### 1. Gather the Dataset\n",
    "\n",
    "I am using pathlib to access the images. Originally, I used os, but os was detecting hidden files, so I decided to provide the file names directly and concatenate those to my base directory. I then iterate through each item in the file, confirming it's a .jpg file using a regular expression.\n",
    "\n",
    "During this iteration process each image is read in with cv2 and resized to 32x32. The labels, or in this case the given file name, are added to a labels list and the images are added to a data list.\n",
    "\n",
    "After all the images are read, I use NumPy to convert the list into an array and the reshape the data so each image is an easier to manage vector.\n",
    "\n",
    "The labels are transformed using LabelEncoder to assign each a number and then converted to an array with NumPy as well.\n",
    "\n",
    "To confirm this worked I'll print the length of my labels list that is returned\n",
    "\n",
    "*The data array, label array, and label encoder are all returned*\n"
   ]
  },
  {
   "cell_type": "code",
   "execution_count": 1,
   "metadata": {},
   "outputs": [
    {
     "name": "stdout",
     "output_type": "stream",
     "text": [
      "_______ Begin Reading Images _______\n",
      "3000 images read.\n",
      "_______ Success, Images Read _______\n"
     ]
    }
   ],
   "source": [
    "from pathlib import Path\n",
    "import cv2\n",
    "import numpy as np\n",
    "from sklearn import preprocessing\n",
    "\n",
    "animals = ['cats', 'dogs', 'panda']\n",
    "base_path = 'KNN/animals'\n",
    "\n",
    "def preprocess(base_path=base_path, animals=animals):\n",
    "    data = []\n",
    "    labels = []\n",
    "    for animal in animals:\n",
    "        animal_dir = Path(base_path) / animal\n",
    "        for image_name in animal_dir.glob(\"*.jpg\"):\n",
    "            image = cv2.imread(str(image_name))\n",
    "            image = cv2.resize(image, (32, 32), interpolation=cv2.INTER_CUBIC)\n",
    "            labels.append(animal)\n",
    "            data.append(image)\n",
    "            \n",
    "    mydata = np.array(data)\n",
    "    mydata = mydata.reshape((mydata.shape[0], 3072))\n",
    "    \n",
    "    le = preprocessing.LabelEncoder()\n",
    "    labels = le.fit_transform(labels)\n",
    "    mylabels = np.array(labels)\n",
    "    \n",
    "    return (mydata, mylabels, le)\n",
    "\n",
    "print('_______ Begin Reading Images _______')\n",
    "data, labels, le = preprocess()\n",
    "print(len(labels), 'images read.')\n",
    "if len(labels) == 3000:\n",
    "    print('_______ Success, Images Read _______')\n",
    "else:\n",
    "    print('______ Image Reading Failed! _______')"
   ]
  },
  {
   "cell_type": "markdown",
   "metadata": {},
   "source": [
    "---\n",
    "### 2. Split the Dataset\n",
    "\n",
    "Here I renamed data and labels to X and y for ease of use and split them twice. The first time to get a 70% training set and the second time to get a 20% test set and 10% validation set from the remaining 30%.\n",
    "\n",
    "To confirm the split was correct I check that my X_train is 70% of the original dataset\n"
   ]
  },
  {
   "cell_type": "code",
   "execution_count": 2,
   "metadata": {},
   "outputs": [
    {
     "name": "stdout",
     "output_type": "stream",
     "text": [
      "______ Begin Train Test Split _______\n",
      "300 validation values.\n",
      "_______ Train Test Split Done _______\n"
     ]
    }
   ],
   "source": [
    "from sklearn.model_selection import train_test_split\n",
    "\n",
    "X = data\n",
    "y = labels\n",
    "\n",
    "print('______ Begin Train Test Split _______')\n",
    "X_train, X_tv, y_train, y_tv = train_test_split(X, y, test_size=0.30, random_state=42)\n",
    "X_test, X_valid, y_test, y_valid = train_test_split(X_tv, y_tv, test_size=0.333, random_state=42)\n",
    "\n",
    "print(len(y_valid), 'validation values.')\n",
    "if len(X_train) != (len(X)*0.7):\n",
    "    print('______ Train Test Split  Failed! ______')\n",
    "else:\n",
    "    print('_______ Train Test Split Done _______')"
   ]
  },
  {
   "cell_type": "markdown",
   "metadata": {},
   "source": [
    "---\n",
    "### 3. Train the Classifier\n",
    "### &&\n",
    "### 4. Evaluate Performance\n",
    "\n",
    "In order to evaluate performance more efficiently, I created a dictionary that stores the best values for each distancing power: L1 representing Manhattan and L2 representing Euclidean. \n",
    "\n",
    "The corresponding lists contents are the accuracy, k-value, and report.\n",
    "\n",
    "I also made lists for the validation and training accuracy scores of each distance type in order to plot a cross validation accuracy chart.\n",
    "\n",
    "The cross validation data is graphed using the accuracy_cross_val method below which was modeled after Tovio's. I used validation instead of the test data, though, because I only used the best fit results from the validation set on my test set."
   ]
  },
  {
   "cell_type": "code",
   "execution_count": 5,
   "metadata": {},
   "outputs": [],
   "source": [
    "import matplotlib.pyplot as plt\n",
    "import matplotlib.patches as mpatches\n",
    "\n",
    "def accuracy_cross_val(dtype, train, validate, k):\n",
    "    axes = plt.gca()\n",
    "    axes.set_xlim([0, len(train)])\n",
    "    axes.set_ylim([min(validate)-0.2, 1.1])\n",
    "    \n",
    "    purple_patch = mpatches.Patch(color='purple', label='Train')\n",
    "    pink_patch = mpatches.Patch(color='pink', label='Validate')\n",
    "    plt.legend(handles=[purple_patch, pink_patch])\n",
    " \n",
    "    title='Accuracy CrossVal {dtype}: Optimal k: {k}'.format(dtype=dtype, k=k)\n",
    "    \n",
    "    axes.plot(list(range(len(validate))), validate, color='pink', label='Validate Scores')\n",
    "    axes.plot(list(range(len(train))), train, color='purple', label='Train Scores')\n",
    "    \n",
    "    plt.show()\n",
    "    \n",
    "    \n",
    "best = {\n",
    "    'l1': [0, 0, None],\n",
    "    'l2': [0, 0, None]\n",
    "}\n",
    "\n",
    "l1_train_scores = []\n",
    "l1_validate_scores = []\n",
    "l2_train_scores = []\n",
    "l2_validate_scores = []"
   ]
  },
  {
   "cell_type": "markdown",
   "metadata": {},
   "source": [
    "In order to select the best k for the Manhattan distance power I generated a model for k values from 1 to 30 and selected the highest accuracy. \n",
    "\n",
    "A small report is printed to show the results for the best Manhattan parameters generated and then the cross validation graph is printed."
   ]
  },
  {
   "cell_type": "code",
   "execution_count": 13,
   "metadata": {},
   "outputs": [
    {
     "name": "stdout",
     "output_type": "stream",
     "text": [
      "#################\n",
      "### Manhattan ###\n",
      "#################\n",
      "\n",
      "Distance Type: L1 | Manhattan\n",
      "\tBest k =  27\n",
      "\tAccuracy = 50.66666666666667%\n",
      "\tReport:\n",
      "               precision    recall  f1-score   support\n",
      "\n",
      "        cats       0.42      0.67      0.52        91\n",
      "        dogs       0.44      0.48      0.46       105\n",
      "       panda       0.95      0.39      0.56       104\n",
      "\n",
      "   micro avg       0.51      0.51      0.51       300\n",
      "   macro avg       0.61      0.51      0.51       300\n",
      "weighted avg       0.61      0.51      0.51       300\n",
      "\n"
     ]
    },
    {
     "data": {
      "image/png": "[encoded data removed]",
      "text/plain": [
       "<Figure size 432x288 with 1 Axes>"
      ]
     },
     "metadata": {
      "needs_background": "light"
     },
     "output_type": "display_data"
    }
   ],
   "source": [
    "from sklearn.neighbors import KNeighborsClassifier\n",
    "from sklearn import metrics\n",
    "\n",
    "\n",
    "print('#################')\n",
    "print('### Manhattan ###')\n",
    "print('#################')\n",
    "\n",
    "for k in range(1, 31):\n",
    "    \n",
    "    model = KNeighborsClassifier(n_neighbors=k, p=1, n_jobs=1)\n",
    "    model.fit(X_train, y_train)\n",
    "    \n",
    "    y_train_pred = model.predict(X_train)\n",
    "    l1_train_scores.append(metrics.accuracy_score(y_train, y_train_pred))\n",
    "    \n",
    "    y_valid_pred = model.predict(X_valid)\n",
    "    ac = metrics.accuracy_score(y_valid, y_valid_pred)\n",
    "    l1_validate_scores.append(ac)\n",
    "    \n",
    "    if ac > best['l1'][0]:\n",
    "        best['l1'][0] = ac\n",
    "        best['l1'][1] = k\n",
    "        best['l1'][2] = metrics.classification_report(y_valid, y_valid_pred, target_names=le.classes_)\n",
    "        \n",
    "print('\\nDistance Type: L1 | Manhattan')\n",
    "print('\\tBest k = ', best['l1'][1])\n",
    "print('\\tAccuracy = {mostaccurate}%'.format(mostaccurate=(best['l1'][0]*100)))\n",
    "print('\\tReport:\\n', best['l1'][2])\n",
    "\n",
    "accuracy_cross_val('L1', l1_train_scores, l1_validate_scores, best['l1'][1])"
   ]
  },
  {
   "cell_type": "markdown",
   "metadata": {},
   "source": [
    "I repeat the same steps above but for the Euclidean distance power."
   ]
  },
  {
   "cell_type": "code",
   "execution_count": 14,
   "metadata": {},
   "outputs": [
    {
     "name": "stdout",
     "output_type": "stream",
     "text": [
      "#################\n",
      "### Euclidean ###\n",
      "#################\n",
      "\n",
      "Distance Type: L2 | Euclidean\n",
      "\tBest k =  27\n",
      "\tAccuracy = 50.66666666666667%\n",
      "\tReport:\n",
      "               precision    recall  f1-score   support\n",
      "\n",
      "        cats       0.42      0.67      0.52        91\n",
      "        dogs       0.44      0.48      0.46       105\n",
      "       panda       0.95      0.39      0.56       104\n",
      "\n",
      "   micro avg       0.51      0.51      0.51       300\n",
      "   macro avg       0.61      0.51      0.51       300\n",
      "weighted avg       0.61      0.51      0.51       300\n",
      "\n"
     ]
    },
    {
     "data": {
      "image/png": "[encoded data removed]",
      "text/plain": [
       "<Figure size 432x288 with 1 Axes>"
      ]
     },
     "metadata": {
      "needs_background": "light"
     },
     "output_type": "display_data"
    }
   ],
   "source": [
    "print('#################')\n",
    "print('### Euclidean ###')\n",
    "print('#################')\n",
    "\n",
    "for k in range(1, 31):\n",
    "    \n",
    "    model = KNeighborsClassifier(n_neighbors=k, p=1, n_jobs=1)\n",
    "    model.fit(X_train, y_train)\n",
    "    \n",
    "    y_train_pred = model.predict(X_train)\n",
    "    l2_train_scores.append(metrics.accuracy_score(y_train, y_train_pred))\n",
    "    \n",
    "    y_valid_pred = model.predict(X_valid)\n",
    "    ac = metrics.accuracy_score(y_valid, y_valid_pred)\n",
    "    l2_validate_scores.append(ac)\n",
    "    \n",
    "    if ac > best['l2'][0]:\n",
    "        best['l2'][0] = ac\n",
    "        best['l2'][1] = k\n",
    "        best['l2'][2] = metrics.classification_report(y_valid, y_valid_pred, target_names=le.classes_)\n",
    "        \n",
    "print('\\nDistance Type: L2 | Euclidean')\n",
    "print('\\tBest k = ', best['l2'][1])\n",
    "print('\\tAccuracy = {mostaccurate}%'.format(mostaccurate=(best['l2'][0]*100)))\n",
    "print('\\tReport:\\n', best['l2'][2])\n",
    "\n",
    "accuracy_cross_val('L2', l2_train_scores, l2_validate_scores, best['l2'][1])"
   ]
  },
  {
   "cell_type": "markdown",
   "metadata": {},
   "source": [
    "I then use the results from my previous two loops to decide which k and distance power I should use to run on my test set. I create a new model based on the best results and print the results."
   ]
  },
  {
   "cell_type": "code",
   "execution_count": 15,
   "metadata": {},
   "outputs": [
    {
     "name": "stdout",
     "output_type": "stream",
     "text": [
      "###############\n",
      "### Results ###\n",
      "###############\n",
      "\n",
      "Best Distance Power: L2 | Euclidean\n",
      "k = 27\n",
      "Test accuracy: 43.833333333333336%\n",
      "Test Validation Report:\n",
      "               precision    recall  f1-score   support\n",
      "\n",
      "        cats       0.46      0.68      0.55       222\n",
      "        dogs       0.35      0.45      0.39       186\n",
      "       panda       0.88      0.15      0.26       192\n",
      "\n",
      "   micro avg       0.44      0.44      0.44       600\n",
      "   macro avg       0.56      0.43      0.40       600\n",
      "weighted avg       0.56      0.44      0.41       600\n",
      "\n"
     ]
    }
   ],
   "source": [
    "print('###############')\n",
    "print('### Results ###')\n",
    "print('###############')\n",
    "\n",
    "if best['l1'][0] > best['l2'][0]:\n",
    "    model = KNeighborsClassifier(n_neighbors=best['l1'][1], p=1, n_jobs=-1)\n",
    "    model.fit(X_train, y_train)\n",
    "    y_test_pred = model.predict(X_test)\n",
    "    report = metrics.classification_report(y_test, y_test_pred, target_names=le.classes_)\n",
    "    print('\\nBest Distance Power: L1 | Manhattan')\n",
    "    print('k =', best['l1'][1])\n",
    "    print('Test accuracy: {accuracy}%'.format(accuracy=(metrics.accuracy_score(y_test, y_test_pred)*100)))\n",
    "    print('Test Validation Report:\\n', report)\n",
    "else:\n",
    "    model = KNeighborsClassifier(n_neighbors=best['l2'][1], p=2, n_jobs=-1)\n",
    "    model.fit(X_train, y_train)\n",
    "    y_test_pred = model.predict(X_test)\n",
    "    report = metrics.classification_report(y_test, y_test_pred, target_names=le.classes_)\n",
    "    print('\\nBest Distance Power: L2 | Euclidean')\n",
    "    print('k =', best['l2'][1])\n",
    "    print('Test accuracy: {accuracy}%'.format(accuracy=(metrics.accuracy_score(y_test, y_test_pred)*100)))\n",
    "    print('Test Validation Report:\\n', report)"
   ]
  },
  {
   "cell_type": "markdown",
   "metadata": {},
   "source": [
    "Because there was so little preprocessing on my part it was hard to get an overall accuracy above 50%. Pandas, because of their pattern of distinct colors, were generally well categorized, resulting in the 80-90% accuracy range. "
   ]
  }
 ],
 "metadata": {
  "kernelspec": {
   "display_name": "Python 3",
   "language": "python",
   "name": "python3"
  },
  "language_info": {
   "codemirror_mode": {
    "name": "ipython",
    "version": 3
   },
   "file_extension": ".py",
   "mimetype": "text/x-python",
   "name": "python",
   "nbconvert_exporter": "python",
   "pygments_lexer": "ipython3",
   "version": "3.6.5"
  }
 },
 "nbformat": 4,
 "nbformat_minor": 2
}
